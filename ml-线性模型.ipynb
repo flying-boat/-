{
 "cells": [
  {
   "cell_type": "markdown",
   "metadata": {},
   "source": [
    "# 实验1 线性模型"
   ]
  },
  {
   "cell_type": "markdown",
   "metadata": {},
   "source": [
    " 一、实验目的\n",
    "\n",
    "掌握线性回归、对数几率回归和线性判别分析的原理与应用，熟悉Scikit-learn中算法的使用。  "
   ]
  },
  {
   "cell_type": "markdown",
   "metadata": {},
   "source": [
    "### 二、实验内容"
   ]
  },
  {
   "cell_type": "markdown",
   "metadata": {},
   "source": [
    "####  1.线性回归 "
   ]
  },
  {
   "cell_type": "markdown",
   "metadata": {},
   "source": [
    "#### （1）随机线性数据的最小二乘回归  \n",
    "  参考教材3.2节，线性模型$f\\left(\\boldsymbol x\\right) = \\boldsymbol w^T + b$ 参数的最优解为\n",
    " \n",
    "  $$\\hat{\\boldsymbol w}^* = \\left(X^TX\\right)^{-1}X^T\\boldsymbol y$$ \n",
    "      \n",
    "利用随机生成的线性数据来学习模型并进行验证。\n",
    "\n",
    "![](https://ai-studio-static-online.cdn.bcebos.com/3a0847372cc7433c8917bccd718e40ed2bed08f278e44a30b9372212fef41069)"
   ]
  },
  {
   "cell_type": "markdown",
   "metadata": {},
   "source": [
    "1）生成数据："
   ]
  },
  {
   "cell_type": "code",
   "execution_count": 4,
   "metadata": {},
   "outputs": [],
   "source": [
    "#随机线性数据的最小二乘回归\n",
    "import matplotlib.pyplot as plt\n",
    "import numpy as np\n",
    "X= 2 * np.random.rand(100,1)\n",
    "y = 4 + 3 * X + np.random.rand(100,1)"
   ]
  },
  {
   "cell_type": "markdown",
   "metadata": {},
   "source": [
    "2）模型学习"
   ]
  },
  {
   "cell_type": "code",
   "execution_count": 4,
   "metadata": {},
   "outputs": [],
   "source": [
    "Xb = np.c_[np.ones((100,1)), X]\n",
    "w_best = np.linalg.inv(Xb.T.dot(Xb)).dot(Xb.T).dot(y)"
   ]
  },
  {
   "cell_type": "markdown",
   "metadata": {},
   "source": [
    "3） 预测"
   ]
  },
  {
   "cell_type": "code",
   "execution_count": 6,
   "metadata": {},
   "outputs": [],
   "source": [
    "Xnew = np.array([[0],[2]])\n",
    "Xnewb = np.c_[np.ones((2,1)), Xnew]\n",
    "y_predict = Xnewb.dot(w_best)\n",
    "\n",
    "plt.plot(Xnew,y_predict,\"r-\")\n",
    "plt.plot(X,y,\"b.\")\n",
    "#plt.axis([0,2,0,15])\n",
    "plt.show"
   ]
  },
  {
   "cell_type": "markdown",
   "metadata": {},
   "source": [
    "#### （2）使用Scikit-Learn 实现"
   ]
  },
  {
   "cell_type": "markdown",
   "metadata": {},
   "source": [
    "阅读Scikit-learn手册中最小二乘线性回归的用法（https://scikit-learn.org/0.20/modules/linear_model.html#ordinary-least-squares）。\n",
    "\n",
    "参考代码："
   ]
  },
  {
   "cell_type": "code",
   "execution_count": 5,
   "metadata": {},
   "outputs": [],
   "source": [
    "from sklearn import linear_model\n",
    "reg = linear_model.LinearRegression()\n",
    "reg.fit(X,y)\n",
    "#......"
   ]
  },
  {
   "cell_type": "markdown",
   "metadata": {},
   "source": [
    "使用LinearRegression类来实现（1）中回归任务。"
   ]
  },
  {
   "cell_type": "code",
   "execution_count": 3,
   "metadata": {},
   "outputs": [
    {
     "name": "stdout",
     "output_type": "stream",
     "text": [
      "[[ 4.55355347]\n",
      " [10.45396195]]\n"
     ]
    },
    {
     "data": {
      "text/plain": [
       "<function matplotlib.pyplot.show>"
      ]
     },
     "execution_count": 3,
     "metadata": {},
     "output_type": "execute_result"
    },
    {
     "data": {
      "image/png": "[encoded data removed]",
      "text/plain": [
       "<Figure size 432x288 with 1 Axes>"
      ]
     },
     "metadata": {},
     "output_type": "display_data"
    }
   ],
   "source": [
    "#使用LinearRegression的随机数据回归\n",
    "from sklearn import linear_model\n",
    "import matplotlib.pyplot as plt\n",
    "import numpy as np\n",
    "X= 2 * np.random.rand(100,1)\n",
    "y = 4 + 3 * X + np.random.rand(100,1)\n",
    "reg = linear_model.LinearRegression()\n",
    "reg.fit(X,y)\n",
    "\n",
    "Xnew = np.array([[0],[2]])\n",
    "Xnewb = np.c_[np.ones((2,1)), Xnew]\n",
    "y_predict = reg.predict(Xnew)\n",
    "\n",
    "print(y_predict)\n",
    "plt.plot(Xnew,y_predict,\"r-\")\n",
    "plt.plot(X,y,\"b.\")\n",
    "#plt.axis([0,2,0,15])\n",
    "plt.show"
   ]
  },
  {
   "cell_type": "markdown",
   "metadata": {},
   "source": [
    "#### （3）多元线性回归"
   ]
  },
  {
   "cell_type": "markdown",
   "metadata": {},
   "source": [
    "参考Scikit-learn手册中最小二乘线性回归的例程，并进行修改，实现对Diabetes dataset数据的多元线性回归。\n",
    "\n",
    "Data Set Characteristics:\n",
    "\n",
    "![](https://ai-studio-static-online.cdn.bcebos.com/6530306ebf524389b4e30c67825475e51548099622854d2b8087669caf900a70)\n",
    "\n",
    "Note: Each of these 10 feature variables have been mean centered and scaled by the standard deviation times n_samples (i.e. the sum of squares of each column totals 1).\n"
   ]
  },
  {
   "cell_type": "code",
   "execution_count": null,
   "metadata": {},
   "outputs": [],
   "source": [
    "#Load and extract data\n",
    "from sklearn import datasets\n",
    "diabetes = datasets.load_diabetes()\n",
    "diabetes_X = diabetes.data\n",
    "diabetes_y = diabetes.target"
   ]
  },
  {
   "cell_type": "markdown",
   "metadata": {},
   "source": [
    "常用评估回归拟合效果的指标：\n",
    "\n",
    "* 均方误差（Mean Squared Error）：测试数据集中所有样本点的预测误差的平方的均值；\n",
    "\n",
    "![](https://ai-studio-static-online.cdn.bcebos.com/834c6c5a2ab04333a3b26686c72b28dae3e9a3a1821640e3833894f091b82a62)\n",
    "\n",
    "* R方得分（R2 Score）：确定性相关系数，用于衡量\n",
    "\n",
    "![](https://ai-studio-static-online.cdn.bcebos.com/fa58070fad8f4dd2bb8088ec04f9f5532e5c421ac5744888985ead72cc907d35)"
   ]
  },
  {
   "cell_type": "markdown",
   "metadata": {},
   "source": [
    "#### 实验与讨论\n",
    "* 选择特征数据中不同属性组合作为样本特征值，比较回归性能并分析原因（比较至少三组）。\n",
    "* 选择不同训练样本集和测试样本集的划分，比较回归性能（比较至少三组）。"
   ]
  },
  {
   "cell_type": "code",
   "execution_count": 2,
   "metadata": {},
   "outputs": [
    {
     "name": "stdout",
     "output_type": "stream",
     "text": [
      "当比例约为10：1时，均方误差为1751.06，R方为0.9923\n",
      "当比例约为5：1时，均方误差为2666.92，R方为0.9945\n",
      "当比例约为50：1时，均方误差为1328.31，R方为0.9552\n"
     ]
    }
   ],
   "source": [
    "#考虑到第一题最好是使用较好的划分比例这样得出的结果会好一些，所以先做第二题\n",
    "#讨论第二题：不同划分比例得出的回归性能.三组数据全部使用所有特征值\n",
    "import numpy as np\n",
    "from sklearn import linear_model\n",
    "from sklearn import datasets\n",
    "\n",
    "diabetes = datasets.load_diabetes()\n",
    "diabetes_X = diabetes.data\n",
    "diabetes_y = diabetes.target\n",
    "#划分比例1——test：train = 1：10\n",
    "Xtrain = diabetes_X[:-40]\n",
    "Xtest = diabetes_X[-40:]\n",
    "ytrain = diabetes_y[:-40]\n",
    "ytest = diabetes_y[-40:]\n",
    "reg1 = linear_model.LinearRegression()\n",
    "reg1.fit(Xtrain, ytrain)\n",
    "ans = reg1.predict(Xtest)\n",
    "mse = 0\n",
    "summ = 0\n",
    "lenth = len(ans)\n",
    "for i in range(lenth):\n",
    "    summ+=(ans[i]-ytest[i])*(ans[i]-ytest[i])\n",
    "mse = summ/lenth\n",
    "yave = 0\n",
    "for i in ytest:\n",
    "    yave += i \n",
    "yave/=lenth\n",
    "sumr = 0\n",
    "for i in range(lenth): \n",
    "    sumr+=(ytest[i]-yave)*(ytest[i]-yave)\n",
    "r = summ/sumr/lenth\n",
    "print('当比例约为10：1时，均方误差为{:.2f}，R方为{:.4f}'.format(mse, 1-r))\n",
    "#划分比例2——test：train = 1：5\n",
    "Xtrain = diabetes_X[:-80]\n",
    "Xtest = diabetes_X[-80:]\n",
    "ytrain = diabetes_y[:-80]\n",
    "ytest = diabetes_y[-80:]\n",
    "reg2 = linear_model.LinearRegression()\n",
    "reg2.fit(Xtrain, ytrain)\n",
    "ans = reg2.predict(Xtest)\n",
    "mse = 0\n",
    "summ = 0\n",
    "lenth = len(ans)\n",
    "for i in range(lenth):\n",
    "    summ+=(ans[i]-ytest[i])*(ans[i]-ytest[i])\n",
    "mse = summ/lenth\n",
    "yave = 0\n",
    "for i in ytest:\n",
    "    yave += i \n",
    "yave/=lenth\n",
    "sumr = 0\n",
    "for i in range(lenth): \n",
    "    sumr+=(ytest[i]-yave)*(ytest[i]-yave)\n",
    "r = summ/sumr/lenth\n",
    "print('当比例约为5：1时，均方误差为{:.2f}，R方为{:.4f}'.format(mse, 1-r))\n",
    "#划分比例3——test：train = 1：50\n",
    "Xtrain = diabetes_X[:-8]\n",
    "Xtest = diabetes_X[-8:]\n",
    "ytrain = diabetes_y[:-8]\n",
    "ytest = diabetes_y[-8:]\n",
    "reg3 = linear_model.LinearRegression()\n",
    "reg3.fit(Xtrain, ytrain)\n",
    "ans = reg3.predict(Xtest)\n",
    "mse = 0\n",
    "summ = 0\n",
    "lenth = len(ans)\n",
    "for i in range(lenth):\n",
    "    summ+=(ans[i]-ytest[i])*(ans[i]-ytest[i])\n",
    "mse = summ/lenth\n",
    "yave = 0\n",
    "for i in ytest:\n",
    "    yave += i \n",
    "yave/=lenth\n",
    "sumr = 0\n",
    "for i in range(lenth): \n",
    "    sumr+=(ytest[i]-yave)*(ytest[i]-yave)\n",
    "r = summ/sumr/lenth\n",
    "print('当比例约为50：1时，均方误差为{:.2f}，R方为{:.4f}'.format(mse, 1-r))"
   ]
  },
  {
   "cell_type": "markdown",
   "metadata": {},
   "source": [
    "根据实验二，我们以R方来衡量误差的话，会发现50：1的答案最佳，但由于比例差太多，害怕出现过拟合的问题，所以在实验一我取10：1进行计算。"
   ]
  },
  {
   "cell_type": "code",
   "execution_count": 65,
   "metadata": {},
   "outputs": [
    {
     "name": "stdout",
     "output_type": "stream",
     "text": [
      "当选取前三个特征值时，均方误差为3267.02，R方为0.9857\n",
      "当选取第4、5、6个特征值时，均方误差为3322.79，R方为0.9855\n",
      "当选取第7、8、9个特征值时，均方误差为3267.02，R方为0.9857\n"
     ]
    }
   ],
   "source": [
    "#实验一：取不同特征值比较其性能\n",
    "import numpy as np\n",
    "from sklearn import linear_model\n",
    "from sklearn import datasets\n",
    "diabetes = datasets.load_diabetes()\n",
    "diabetes_X = diabetes.data\n",
    "diabetes_y = diabetes.target\n",
    "#划分比例1——test：train = 1：10\n",
    "Xtrain = diabetes_X[:-40]\n",
    "Xtest = diabetes_X[-40:]\n",
    "ytrain = diabetes_y[:-40]\n",
    "ytest = diabetes_y[-40:]\n",
    "Xtr = np.c_[Xtrain[:,0],Xtrain[:,1],Xtrain[:,2]]\n",
    "Xte = np.c_[Xtest[:,0],Xtest[:,1],Xtest[:,2]]\n",
    "reg1 = linear_model.LinearRegression()\n",
    "reg1.fit(Xtr, ytrain)\n",
    "ans = reg1.predict(Xte)\n",
    "mse = 0\n",
    "summ = 0\n",
    "lenth = len(ans)\n",
    "for i in range(lenth):\n",
    "    summ+=(ans[i]-ytest[i])*(ans[i]-ytest[i])\n",
    "mse = summ/lenth\n",
    "yave = 0\n",
    "for i in ytest:\n",
    "    yave += i \n",
    "yave/=lenth\n",
    "sumr = 0\n",
    "for i in range(lenth): \n",
    "    sumr+=(ytest[i]-yave)*(ytest[i]-yave)\n",
    "r = summ/sumr/lenth\n",
    "print('当选取前三个特征值时，均方误差为{:.2f}，R方为{:.4f}'.format(mse, 1-r))\n",
    "Xtr = np.c_[Xtrain[:,6],Xtrain[:,7],Xtrain[:,8]]\n",
    "Xte = np.c_[Xtest[:,6],Xtest[:,7],Xtest[:,8]]\n",
    "reg2 = linear_model.LinearRegression()\n",
    "reg2.fit(Xtr, ytrain)\n",
    "ans = reg2.predict(Xte)\n",
    "mse = 0\n",
    "summ = 0\n",
    "lenth = len(ans)\n",
    "for i in range(lenth):\n",
    "    summ+=(ans[i]-ytest[i])*(ans[i]-ytest[i])\n",
    "mse = summ/lenth\n",
    "yave = 0\n",
    "for i in ytest:\n",
    "    yave += i \n",
    "yave/=lenth\n",
    "sumr = 0\n",
    "for i in range(lenth): \n",
    "    sumr+=(ytest[i]-yave)*(ytest[i]-yave)\n",
    "r = summ/sumr/lenth\n",
    "print('当选取第4、5、6个特征值时，均方误差为{:.2f}，R方为{:.4f}'.format(mse, 1-r))\n",
    "Xtr = np.c_[Xtrain[:,0],Xtrain[:,1],Xtrain[:,2]]\n",
    "Xte = np.c_[Xtest[:,0],Xtest[:,1],Xtest[:,2]]\n",
    "reg = linear_model.LinearRegression()\n",
    "reg.fit(Xtr, ytrain)\n",
    "ans = reg.predict(Xte)\n",
    "mse = 0\n",
    "summ = 0\n",
    "lenth = len(ans)\n",
    "for i in range(lenth):\n",
    "    summ+=(ans[i]-ytest[i])*(ans[i]-ytest[i])\n",
    "mse = summ/lenth\n",
    "yave = 0\n",
    "for i in ytest:\n",
    "    yave += i \n",
    "yave/=lenth\n",
    "sumr = 0\n",
    "for i in range(lenth): \n",
    "    sumr+=(ytest[i]-yave)*(ytest[i]-yave)\n",
    "r = summ/sumr/lenth\n",
    "print('当选取第7、8、9个特征值时，均方误差为{:.2f}，R方为{:.4f}'.format(mse, 1-r))"
   ]
  },
  {
   "cell_type": "markdown",
   "metadata": {},
   "source": [
    "#### 2. 对数几率回归\n",
    "  对数几率回归模型为\n",
    "  \n",
    " $ln\\frac{y}{1-y} = \\boldsymbol w^T + b$ \n",
    "\n",
    "阅读Scikit-learn手册（https://scikit-learn.org/0.20/modules/linear_model.html#logistic-regression），熟悉LogisticRegression的用法。"
   ]
  },
  {
   "cell_type": "markdown",
   "metadata": {},
   "source": [
    "#### （1）两类数据分类"
   ]
  },
  {
   "cell_type": "code",
   "execution_count": 3,
   "metadata": {},
   "outputs": [
    {
     "data": {
      "image/png": "[encoded data removed]",
      "text/plain": [
       "<Figure size 432x288 with 1 Axes>"
      ]
     },
     "metadata": {},
     "output_type": "display_data"
    }
   ],
   "source": [
    "#绘制分类结果图形的函数\n",
    "\n",
    "def plot_classifier(classifier, X, y):\n",
    "    # define ranges to plot the figure \n",
    "    x_min, x_max = min(X[:, 0]) - 1.0, max(X[:, 0]) + 1.0\n",
    "    y_min, y_max = min(X[:, 1]) - 1.0, max(X[:, 1]) + 1.0\n",
    "\n",
    "    # denotes the step size that will be used in the mesh grid\n",
    "    step_size = 0.01\n",
    "\n",
    "    # define the mesh grid\n",
    "    x_values, y_values = np.meshgrid(np.arange(x_min, x_max, step_size), np.arange(y_min, y_max, step_size))\n",
    "\n",
    "    # compute the classifier output\n",
    "    mesh_output = classifier.predict(np.c_[x_values.ravel(), y_values.ravel()])\n",
    "\n",
    "    # reshape the array\n",
    "    mesh_output = mesh_output.reshape(x_values.shape)\n",
    "\n",
    "    # Plot the output using a colored plot \n",
    "    plt.figure()\n",
    "\n",
    "    # choose a color scheme you can find all the options \n",
    "    # here: http://matplotlib.org/examples/color/colormaps_reference.html\n",
    "    plt.pcolormesh(x_values, y_values, mesh_output, cmap=plt.cm.gray)\n",
    "\n",
    "    # Overlay the training points on the plot \n",
    "    plt.scatter(X[:, 0], X[:, 1], c=y, s=80, edgecolors='black', linewidth=1, cmap=plt.cm.Paired)\n",
    "\n",
    "    # specify the boundaries of the figure\n",
    "    plt.xlim(x_values.min(), x_values.max())\n",
    "    plt.ylim(y_values.min(), y_values.max())\n",
    "\n",
    "    # specify the ticks on the X and Y axes\n",
    "    plt.xticks((np.arange(int(min(X[:, 0])-1), int(max(X[:, 0])+1), 1.0)))\n",
    "    plt.yticks((np.arange(int(min(X[:, 1])-1), int(max(X[:, 1])+1), 1.0)))\n",
    "\n",
    "    plt.show()"
   ]
  },
  {
   "cell_type": "code",
   "execution_count": 16,
   "metadata": {},
   "outputs": [],
   "source": [
    "# input data\n",
    "X = np.array([[4, 7], [3.5, 8], [3.1, 6.2], [0.5, 1], [1, 2],[1.2, 1.9]])\n",
    "y = np.array([0, 0, 0, 1, 1, 1])\n",
    "# initialize the logistic regression classifier\n",
    "logregr = linear_model.LogisticRegression(solver='liblinear', C=100)\n",
    " # train the classifier\n",
    "logregr.fit(X, y)"
   ]
  },
  {
   "cell_type": "code",
   "execution_count": 17,
   "metadata": {},
   "outputs": [],
   "source": [
    " # draw datapoints and boundaries\n",
    "plot_classifier(logregr, X, y)"
   ]
  },
  {
   "cell_type": "code",
   "execution_count": 11,
   "metadata": {},
   "outputs": [
    {
     "data": {
      "image/png": "[encoded data removed]",
      "text/plain": [
       "<Figure size 432x288 with 1 Axes>"
      ]
     },
     "metadata": {},
     "output_type": "display_data"
    }
   ],
   "source": [
    "import numpy as np\n",
    "import matplotlib.pyplot as plt\n",
    "from sklearn import linear_model\n",
    "from sklearn import datasets\n",
    "def plot_classifier(classifier, X, y):\n",
    "    x_min, x_max = min(X[:, 0]) - 1.0, max(X[:, 0]) + 1.0\n",
    "    y_min, y_max = min(X[:, 1]) - 1.0, max(X[:, 1]) + 1.0\n",
    "\n",
    "    # denotes the step size that will be used in the mesh grid\n",
    "    step_size = 0.01\n",
    "\n",
    "    # define the mesh grid\n",
    "    x_values, y_values = np.meshgrid(np.arange(x_min, x_max, step_size), np.arange(y_min, y_max, step_size))\n",
    "    # compute the classifier output\n",
    "    mesh_output = classifier.predict(np.c_[x_values.ravel(), y_values.ravel()])\n",
    "    \n",
    "    # reshape the array\n",
    "    mesh_output = mesh_output.reshape(x_values.shape)\n",
    "    # Plot the output using a colored plot \n",
    "    plt.figure()\n",
    "\n",
    "    # choose a color scheme you can find all the options \n",
    "    # here: http://matplotlib.org/examples/color/colormaps_reference.html\n",
    "    plt.pcolormesh(x_values, y_values, mesh_output, cmap=plt.cm.gray)\n",
    "\n",
    "    # Overlay the training points on the plot \n",
    "    plt.scatter(X[:, 0], X[:, 1], c=y, s=80, edgecolors='black', linewidth=1, cmap=plt.cm.Paired)\n",
    "\n",
    "    # specify the boundaries of the figure\n",
    "    plt.xlim(x_values.min(), x_values.max())\n",
    "    plt.ylim(y_values.min(), y_values.max())\n",
    "\n",
    "    # specify the ticks on the X and Y axes\n",
    "    plt.xticks((np.arange(int(min(X[:, 0])-1), int(max(X[:, 0])+1), 1.0)))\n",
    "    plt.yticks((np.arange(int(min(X[:, 1])-1), int(max(X[:, 1])+1), 1.0)))\n",
    "\n",
    "    plt.show()\n",
    "X = np.array([[4, 7], [3.5, 8], [3.1, 6.2], [0.5, 1], [1, 2],[1.2, 1.9]])\n",
    "y = np.array([0, 0, 0, 1, 1, 1])\n",
    "logregr = linear_model.LogisticRegression(solver='liblinear', C=100)\n",
    "logregr.fit(X, y)\n",
    "plot_classifier(logregr, X, y)"
   ]
  },
  {
   "cell_type": "markdown",
   "metadata": {},
   "source": [
    "#### （2）多类数据分类"
   ]
  },
  {
   "cell_type": "markdown",
   "metadata": {},
   "source": [
    "Scikit-learn中的LogisticRegression可以实现\"一对多\"分类或Softmax回归的多类分类。以鸢尾花数据为例，应用LogisticRegression进行多类分类。\n",
    "\n",
    "Data Set Characteristics:\n",
    "\n",
    "![](https://ai-studio-static-online.cdn.bcebos.com/e75773b7c55d497b96df7443f5033735936a5f4dcd244dacb4e791590ecd65f8)"
   ]
  },
  {
   "cell_type": "code",
   "execution_count": 22,
   "metadata": {},
   "outputs": [],
   "source": [
    "from sklearn import datasets\n",
    "\n",
    "iris = datasets.load_iris()\n",
    "X = iris.data[:,1:3]\n",
    "y = iris.target"
   ]
  },
  {
   "cell_type": "code",
   "execution_count": 23,
   "metadata": {},
   "outputs": [],
   "source": [
    "logregr = linear_model.LogisticRegression(solver='liblinear', C=100)\n",
    " # train the classifier\n",
    "logregr.fit(X, y)\n",
    "logregr.score(X,y)"
   ]
  },
  {
   "cell_type": "markdown",
   "metadata": {},
   "source": [
    "#### 实验与讨论\n",
    "* 以平均精度（LogisticRegression.score(X,y)）为指标，比较不同特征组合与数据集划分的分类性能（至少三组）。\n",
    "* 了解其它分类性能度量指标实现方法（选做）。"
   ]
  },
  {
   "cell_type": "code",
   "execution_count": 7,
   "metadata": {},
   "outputs": [
    {
     "name": "stdout",
     "output_type": "stream",
     "text": [
      "当划分比例为1：10时，得分为1.00\n",
      "当划分比例为1：20时，得分为1.00\n",
      "当划分比例为1：5时，得分为0.87\n",
      "当取第1、2个特征时，得分为0.73\n",
      "当取第1、3个特征时，得分为1.00\n",
      "当取第3、4个特征时，得分为1.00\n"
     ]
    }
   ],
   "source": [
    "from sklearn import datasets\n",
    "import numpy as np\n",
    "from sklearn import linear_model\n",
    "from sklearn.model_selection import train_test_split\n",
    "#先选取不同的划分比例，先取1：10\n",
    "iris = datasets.load_iris()\n",
    "X = iris.data\n",
    "y = iris.target\n",
    "xtrain, xtest, ytrain, ytest = train_test_split(X, y, test_size = 0.1)\n",
    "logregr1 = linear_model.LogisticRegression(solver='liblinear', C=90)\n",
    "logregr1.fit(xtrain, ytrain)\n",
    "ans = logregr1.score(xtest, ytest)\n",
    "print('当划分比例为1：10时，得分为{:.2f}'.format(ans))\n",
    "#取1：20\n",
    "xtrain, xtest, ytrain, ytest = train_test_split(X, y, test_size = 0.05)\n",
    "logregr2 = linear_model.LogisticRegression(solver='liblinear', C=90)\n",
    "logregr2.fit(xtrain, ytrain)\n",
    "ans = logregr2.score(xtest, ytest)\n",
    "print('当划分比例为1：20时，得分为{:.2f}'.format(ans))\n",
    "#取1:5\n",
    "xtrain, xtest, ytrain, ytest = train_test_split(X, y, test_size = 0.2)\n",
    "logregr3 = linear_model.LogisticRegression(solver='liblinear', C=90)\n",
    "logregr3.fit(xtrain, ytrain)\n",
    "ans = logregr3.score(xtest, ytest)\n",
    "print('当划分比例为1：5时，得分为{:.2f}'.format(ans))\n",
    "\n",
    "#结果取1：5与1：20时效果都不错，下面选取不同特征值，选取比例为1：5\n",
    "#先选取第1、2个的特征值\n",
    "X1 = X[:,0:1]\n",
    "xtrain, xtest, ytrain, ytest = train_test_split(X1, y, test_size = 0.2)\n",
    "logregr4 = linear_model.LogisticRegression(solver='liblinear', C=90)\n",
    "logregr4.fit(xtrain, ytrain)\n",
    "ans = logregr4.score(xtest, ytest)\n",
    "print('当取第1、2个特征时，得分为{:.2f}'.format(ans))\n",
    "#再选取第1、3个的特征值\n",
    "X2 = np.c_[X[:,0],X[:,2]]\n",
    "xtrain, xtest, ytrain, ytest = train_test_split(X2, y, test_size = 0.2)\n",
    "logregr5 = linear_model.LogisticRegression(solver='liblinear', C=90)\n",
    "logregr5.fit(xtrain, ytrain)\n",
    "ans = logregr5.score(xtest, ytest)\n",
    "print('当取第1、3个特征时，得分为{:.2f}'.format(ans))\n",
    "#最后选取第3、4个的特征值\n",
    "X2 = X[:,2:3]\n",
    "xtrain, xtest, ytrain, ytest = train_test_split(X2, y, test_size = 0.2)\n",
    "logregr6 = linear_model.LogisticRegression(solver='liblinear', C=90)\n",
    "logregr6.fit(xtrain, ytrain)\n",
    "ans = logregr6.score(xtest, ytest)\n",
    "print('当取第3、4个特征时，得分为{:.2f}'.format(ans))"
   ]
  },
  {
   "cell_type": "markdown",
   "metadata": {},
   "source": [
    "### 三、实验结果与分析"
   ]
  },
  {
   "cell_type": "markdown",
   "metadata": {},
   "source": [
    "（请给出实验内容中“实验与讨论”中的结果及其分析。）"
   ]
  },
  {
   "cell_type": "code",
   "execution_count": 66,
   "metadata": {},
   "outputs": [
    {
     "name": "stdout",
     "output_type": "stream",
     "text": [
      "当比例约为10：1时，均方误差为1751.06，R方为0.9923\n",
      "当比例约为5：1时，均方误差为2666.92，R方为0.9945\n",
      "当比例约为50：1时，均方误差为1328.31，R方为0.9552\n",
      "当选取前三个特征值时，均方误差为3267.02，R方为0.9857\n",
      "当选取第4、5、6个特征值时，均方误差为3322.79，R方为0.9855\n",
      "当选取第7、8、9个特征值时，均方误差为3267.02，R方为0.9857\n"
     ]
    }
   ],
   "source": [
    "#考虑到第一题最好是使用较好的划分比例这样得出的结果会好一些，所以先做第二题\n",
    "#讨论第二题：不同划分比例得出的回归性能.三组数据全部使用所有特征值\n",
    "import numpy as np\n",
    "from sklearn import linear_model\n",
    "from sklearn import datasets\n",
    "diabetes = datasets.load_diabetes()\n",
    "diabetes_X = diabetes.data\n",
    "diabetes_y = diabetes.target\n",
    "#划分比例1——test：train = 1：10\n",
    "Xtrain = diabetes_X[:-40]\n",
    "Xtest = diabetes_X[-40:]\n",
    "ytrain = diabetes_y[:-40]\n",
    "ytest = diabetes_y[-40:]\n",
    "reg1 = linear_model.LinearRegression()\n",
    "reg1.fit(Xtrain, ytrain)\n",
    "ans = reg1.predict(Xtest)\n",
    "mse = 0\n",
    "summ = 0\n",
    "lenth = len(ans)\n",
    "for i in range(lenth):\n",
    "    summ+=(ans[i]-ytest[i])*(ans[i]-ytest[i])\n",
    "mse = summ/lenth\n",
    "yave = 0\n",
    "for i in ytest:\n",
    "    yave += i \n",
    "yave/=lenth\n",
    "sumr = 0\n",
    "for i in range(lenth): \n",
    "    sumr+=(ytest[i]-yave)*(ytest[i]-yave)\n",
    "r = summ/sumr/lenth\n",
    "print('当比例约为10：1时，均方误差为{:.2f}，R方为{:.4f}'.format(mse, 1-r))\n",
    "#划分比例2——test：train = 1：5\n",
    "Xtrain = diabetes_X[:-80]\n",
    "Xtest = diabetes_X[-80:]\n",
    "ytrain = diabetes_y[:-80]\n",
    "ytest = diabetes_y[-80:]\n",
    "reg2 = linear_model.LinearRegression()\n",
    "reg2.fit(Xtrain, ytrain)\n",
    "ans = reg2.predict(Xtest)\n",
    "mse = 0\n",
    "summ = 0\n",
    "lenth = len(ans)\n",
    "for i in range(lenth):\n",
    "    summ+=(ans[i]-ytest[i])*(ans[i]-ytest[i])\n",
    "mse = summ/lenth\n",
    "yave = 0\n",
    "for i in ytest:\n",
    "    yave += i \n",
    "yave/=lenth\n",
    "sumr = 0\n",
    "for i in range(lenth): \n",
    "    sumr+=(ytest[i]-yave)*(ytest[i]-yave)\n",
    "r = summ/sumr/lenth\n",
    "print('当比例约为5：1时，均方误差为{:.2f}，R方为{:.4f}'.format(mse, 1-r))\n",
    "#划分比例3——test：train = 1：50\n",
    "Xtrain = diabetes_X[:-8]\n",
    "Xtest = diabetes_X[-8:]\n",
    "ytrain = diabetes_y[:-8]\n",
    "ytest = diabetes_y[-8:]\n",
    "reg3 = linear_model.LinearRegression()\n",
    "reg3.fit(Xtrain, ytrain)\n",
    "ans = reg3.predict(Xtest)\n",
    "mse = 0\n",
    "summ = 0\n",
    "lenth = len(ans)\n",
    "for i in range(lenth):\n",
    "    summ+=(ans[i]-ytest[i])*(ans[i]-ytest[i])\n",
    "mse = summ/lenth\n",
    "yave = 0\n",
    "for i in ytest:\n",
    "    yave += i \n",
    "yave/=lenth\n",
    "sumr = 0\n",
    "for i in range(lenth): \n",
    "    sumr+=(ytest[i]-yave)*(ytest[i]-yave)\n",
    "r = summ/sumr/lenth\n",
    "print('当比例约为50：1时，均方误差为{:.2f}，R方为{:.4f}'.format(mse, 1-r))\n",
    "\n",
    "#实验一：取不同特征值比较其性能\n",
    "import numpy as np\n",
    "from sklearn import linear_model\n",
    "from sklearn import datasets\n",
    "diabetes = datasets.load_diabetes()\n",
    "diabetes_X = diabetes.data\n",
    "diabetes_y = diabetes.target\n",
    "#划分比例1——test：train = 1：10\n",
    "Xtrain = diabetes_X[:-40]\n",
    "Xtest = diabetes_X[-40:]\n",
    "ytrain = diabetes_y[:-40]\n",
    "ytest = diabetes_y[-40:]\n",
    "Xtr = np.c_[Xtrain[:,0],Xtrain[:,1],Xtrain[:,2]]\n",
    "Xte = np.c_[Xtest[:,0],Xtest[:,1],Xtest[:,2]]\n",
    "reg1 = linear_model.LinearRegression()\n",
    "reg1.fit(Xtr, ytrain)\n",
    "ans = reg1.predict(Xte)\n",
    "mse = 0\n",
    "summ = 0\n",
    "lenth = len(ans)\n",
    "for i in range(lenth):\n",
    "    summ+=(ans[i]-ytest[i])*(ans[i]-ytest[i])\n",
    "mse = summ/lenth\n",
    "yave = 0\n",
    "for i in ytest:\n",
    "    yave += i \n",
    "yave/=lenth\n",
    "sumr = 0\n",
    "for i in range(lenth): \n",
    "    sumr+=(ytest[i]-yave)*(ytest[i]-yave)\n",
    "r = summ/sumr/lenth\n",
    "print('当选取前三个特征值时，均方误差为{:.2f}，R方为{:.4f}'.format(mse, 1-r))\n",
    "Xtr = np.c_[Xtrain[:,6],Xtrain[:,7],Xtrain[:,8]]\n",
    "Xte = np.c_[Xtest[:,6],Xtest[:,7],Xtest[:,8]]\n",
    "reg2 = linear_model.LinearRegression()\n",
    "reg2.fit(Xtr, ytrain)\n",
    "ans = reg2.predict(Xte)\n",
    "mse = 0\n",
    "summ = 0\n",
    "lenth = len(ans)\n",
    "for i in range(lenth):\n",
    "    summ+=(ans[i]-ytest[i])*(ans[i]-ytest[i])\n",
    "mse = summ/lenth\n",
    "yave = 0\n",
    "for i in ytest:\n",
    "    yave += i \n",
    "yave/=lenth\n",
    "sumr = 0\n",
    "for i in range(lenth): \n",
    "    sumr+=(ytest[i]-yave)*(ytest[i]-yave)\n",
    "r = summ/sumr/lenth\n",
    "print('当选取第4、5、6个特征值时，均方误差为{:.2f}，R方为{:.4f}'.format(mse, 1-r))\n",
    "Xtr = np.c_[Xtrain[:,0],Xtrain[:,1],Xtrain[:,2]]\n",
    "Xte = np.c_[Xtest[:,0],Xtest[:,1],Xtest[:,2]]\n",
    "reg = linear_model.LinearRegression()\n",
    "reg.fit(Xtr, ytrain)\n",
    "ans = reg.predict(Xte)\n",
    "mse = 0\n",
    "summ = 0\n",
    "lenth = len(ans)\n",
    "for i in range(lenth):\n",
    "    summ+=(ans[i]-ytest[i])*(ans[i]-ytest[i])\n",
    "mse = summ/lenth\n",
    "yave = 0\n",
    "for i in ytest:\n",
    "    yave += i \n",
    "yave/=lenth\n",
    "sumr = 0\n",
    "for i in range(lenth): \n",
    "    sumr+=(ytest[i]-yave)*(ytest[i]-yave)\n",
    "r = summ/sumr/lenth\n",
    "print('当选取第7、8、9个特征值时，均方误差为{:.2f}，R方为{:.4f}'.format(mse, 1-r))"
   ]
  },
  {
   "cell_type": "markdown",
   "metadata": {},
   "source": [
    "实验一：\n",
    "  当比例约为10：1时，均方误差为1751.06，R方为0.9923\n",
    "  当比例约为5：1时，均方误差为2666.92，R方为0.9945\n",
    "  当比例约为50：1时，均方误差为1328.31，R方为0.9552\n",
    "  当选取前三个特征值时，均方误差为3267.02，R方为0.9857\n",
    "  当选取第4、5、6个特征值时，均方误差为3322.79，R方为0.9855\n",
    "  当选取第7、8、9个特征值时，均方误差为3267.02，R方为0.9857\n",
    "  \n",
    "  根据讨论二结果，我们会发现当取样train：test比例接近10：1时结果最佳\n",
    "  \n",
    "  根据对讨论一的观察，我们会发现性别、年龄与后面的体测指标其实误差接近，但都小于10个特征值一起使用的情况（及欠拟合）。这说明每个特征值都对结果产生了影响。\n",
    "  "
   ]
  },
  {
   "cell_type": "code",
   "execution_count": 8,
   "metadata": {},
   "outputs": [
    {
     "name": "stdout",
     "output_type": "stream",
     "text": [
      "当划分比例为1：10时，得分为0.87\n",
      "当划分比例为1：20时，得分为1.00\n",
      "当划分比例为1：5时，得分为1.00\n",
      "当取第1、2个特征时，得分为0.67\n",
      "当取第1、3个特征时，得分为0.93\n",
      "当取第3、4个特征时，得分为0.97\n"
     ]
    }
   ],
   "source": [
    "from sklearn import datasets\n",
    "import numpy as np\n",
    "from sklearn import linear_model\n",
    "from sklearn.model_selection import train_test_split\n",
    "#先选取不同的划分比例，先取1：10\n",
    "iris = datasets.load_iris()\n",
    "X = iris.data\n",
    "y = iris.target\n",
    "xtrain, xtest, ytrain, ytest = train_test_split(X, y, test_size = 0.1)\n",
    "logregr1 = linear_model.LogisticRegression(solver='liblinear', C=90)\n",
    "logregr1.fit(xtrain, ytrain)\n",
    "ans = logregr1.score(xtest, ytest)\n",
    "print('当划分比例为1：10时，得分为{:.2f}'.format(ans))\n",
    "#取1：20\n",
    "xtrain, xtest, ytrain, ytest = train_test_split(X, y, test_size = 0.05)\n",
    "logregr2 = linear_model.LogisticRegression(solver='liblinear', C=90)\n",
    "logregr2.fit(xtrain, ytrain)\n",
    "ans = logregr2.score(xtest, ytest)\n",
    "print('当划分比例为1：20时，得分为{:.2f}'.format(ans))\n",
    "#取1:5\n",
    "xtrain, xtest, ytrain, ytest = train_test_split(X, y, test_size = 0.2)\n",
    "logregr3 = linear_model.LogisticRegression(solver='liblinear', C=90)\n",
    "logregr3.fit(xtrain, ytrain)\n",
    "ans = logregr3.score(xtest, ytest)\n",
    "print('当划分比例为1：5时，得分为{:.2f}'.format(ans))\n",
    "\n",
    "#结果取1：5与1：20时效果都不错，下面选取不同特征值，选取比例为1：5\n",
    "#先选取第1、2个的特征值\n",
    "X1 = X[:,0:1]\n",
    "xtrain, xtest, ytrain, ytest = train_test_split(X1, y, test_size = 0.2)\n",
    "logregr4 = linear_model.LogisticRegression(solver='liblinear', C=90)\n",
    "logregr4.fit(xtrain, ytrain)\n",
    "ans = logregr4.score(xtest, ytest)\n",
    "print('当取第1、2个特征时，得分为{:.2f}'.format(ans))\n",
    "#再选取第1、3个的特征值\n",
    "X2 = np.c_[X[:,0],X[:,2]]\n",
    "xtrain, xtest, ytrain, ytest = train_test_split(X2, y, test_size = 0.2)\n",
    "logregr5 = linear_model.LogisticRegression(solver='liblinear', C=90)\n",
    "logregr5.fit(xtrain, ytrain)\n",
    "ans = logregr5.score(xtest, ytest)\n",
    "print('当取第1、3个特征时，得分为{:.2f}'.format(ans))\n",
    "#最后选取第3、4个的特征值\n",
    "X2 = X[:,2:3]\n",
    "xtrain, xtest, ytrain, ytest = train_test_split(X2, y, test_size = 0.2)\n",
    "logregr6 = linear_model.LogisticRegression(solver='liblinear', C=90)\n",
    "logregr6.fit(xtrain, ytrain)\n",
    "ans = logregr6.score(xtest, ytest)\n",
    "print('当取第3、4个特征时，得分为{:.2f}'.format(ans))"
   ]
  },
  {
   "cell_type": "markdown",
   "metadata": {},
   "source": [
    "分析：\n",
    "\t当划分比例为1:10 1:5 1:20时效果都很好。于是选择1：5的划分比例\n",
    " \t\n",
    "    取特征值时，对于1、3 和3、4个特征值拟合效果比较好，但1、2个特征值拟合效果极差。所以可以推断，第二个特征值其实对该样本的结果相关性很低。"
   ]
  },
  {
   "cell_type": "markdown",
   "metadata": {},
   "source": []
  },
  {
   "cell_type": "markdown",
   "metadata": {},
   "source": [
    "请点击[此处](https://ai.baidu.com/docs#/AIStudio_Project_Notebook/a38e5576)查看本环境基本用法.  <br>\n",
    "Please click [here ](https://ai.baidu.com/docs#/AIStudio_Project_Notebook/a38e5576) for more detailed instructions. "
   ]
  }
 ],
 "metadata": {
  "kernelspec": {
   "display_name": "Python 3",
   "language": "python",
   "name": "python3"
  },
  "language_info": {
   "codemirror_mode": {
    "name": "ipython",
    "version": 3
   },
   "file_extension": ".py",
   "mimetype": "text/x-python",
   "name": "python",
   "nbconvert_exporter": "python",
   "pygments_lexer": "ipython3",
   "version": "3.7.4"
  }
 },
 "nbformat": 4,
 "nbformat_minor": 1
}
