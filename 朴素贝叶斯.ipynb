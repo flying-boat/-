{
 "cells": [
  {
   "cell_type": "code",
   "execution_count": 3,
   "metadata": {
    "collapsed": false
   },
   "outputs": [],
   "source": [
    "import pandas as pd\n",
    "import math\n",
    "\n",
    "class Bayesclassifier():\n",
    "    def __init__(self):\n",
    "        pass\n",
    "    def train(self, X, y):\n",
    "        N = len(y)\n",
    "        self.classes = self.count_list(y)\n",
    "        self.class_num = len(self.classes)\n",
    "        self.classes_p = {}\n",
    "        for c, n in self.classes.items():\n",
    "            self.classes_p[c] = n / N\n",
    "\n",
    "        self.discrete_good_p = []\n",
    "        self.discrete_bad_p = []\n",
    "        for i in range(6):\n",
    "            attr_with_good = []\n",
    "            attr_with_bad = []\n",
    "            for j in range(N):\n",
    "                if y[j] == \"是\":\n",
    "                     attr_with_good.append(X[j][i])\n",
    "                else:\n",
    "                    attr_with_bad.append(X[j][i])\n",
    "            unique_with_good = self.count_list(attr_with_good)\n",
    "            unique_with_bad = self.count_list(attr_with_bad)\n",
    "            self.discrete_good_p.append(self.discrete_p(unique_with_good, self.classes[\"是\"]))\n",
    "            self.discrete_bad_p.append(self.discrete_p(unique_with_bad, self.classes[\"否\"]))\n",
    "        self.good_mus = []\n",
    "        self.good_vars = []\n",
    "        self.bad_mus = []\n",
    "        self.bad_vars = []\n",
    "        for i in range(2):\n",
    "            attr_with_good = []\n",
    "            attr_with_bad = []\n",
    "            for j in range(N):\n",
    "                if y[j] == \"是\":\n",
    "                    attr_with_good.append(X[j][i+6])\n",
    "                else:\n",
    "                    attr_with_bad.append(X[j][i+6])\n",
    "            good_mu, good_var = self.mu_var(attr_with_good)\n",
    "            bad_mu, bad_var = self.mu_var(attr_with_bad)\n",
    "            self.good_mus.append(good_mu)\n",
    "            self.good_vars.append(good_var)\n",
    "            self.bad_mus.append(bad_mu)\n",
    "            self.bad_vars.append(bad_var)\n",
    "\n",
    "    def predict(self, x):\n",
    "        p_good = self.classes_p[\"是\"]\n",
    "        p_bad = self.classes_p[\"否\"]\n",
    "        for i in range(6):\n",
    "            p_good  *= self.discrete_good_p[i][x[i]]\n",
    "            p_bad *= self.discrete_bad_p[i][x[i]]\n",
    "        for i in range(2):\n",
    "            p_good *= self.continuous_p(x[i+6], self.good_mus[i], self.good_vars[i])\n",
    "            p_bad *= self.continuous_p(x[i+6], self.bad_mus[i], self.bad_vars[i])\n",
    "        if p_good >= p_bad:\n",
    "            return p_good, p_bad, \"是\"\n",
    "        else:\n",
    "            return p_good, p_bad, \"否\"\n",
    "    '''归类'''\n",
    "    def count_list(self, l):\n",
    "        unique_dict = {}\n",
    "        for e in l:\n",
    "            if e in unique_dict:\n",
    "                unique_dict[e] += 1\n",
    "            else:\n",
    "                unique_dict[e] = 1\n",
    "        return unique_dict\n",
    "    '''算离散的概率'''\n",
    "    def discrete_p(self, d, N_class):\n",
    "        new_d = {}\n",
    "        for a, n in d.items():\n",
    "            new_d[a] = n / N_class\n",
    "        return new_d\n",
    "    '''算连续的概率'''\n",
    "    def continuous_p(self, x, mu, var):\n",
    "        p = 1.0 / (math.sqrt(2*math.pi) * math.sqrt(var)) * math.exp(- (x-mu)**2 /(2*var))\n",
    "        return p\n",
    "    '''计算均值方差'''\n",
    "    def mu_var(self, l):\n",
    "        mu = sum(l) / float(len(l))\n",
    "        var = 0\n",
    "        for i in range(len(l)):\n",
    "            var += (l[i]-mu)**2\n",
    "        var = var / float(len(l)-1)\n",
    "        return mu, var"
   ]
  },
  {
   "cell_type": "code",
   "execution_count": 8,
   "metadata": {
    "collapsed": false
   },
   "outputs": [
    {
     "name": "stdout",
     "output_type": "stream",
     "text": [
      "预测结果为: 是, 0.0698383, 0.0000457\n"
     ]
    }
   ],
   "source": [
    "if __name__==\"__main__\":\r\n",
    "    bcf = Bayesclassifier()\r\n",
    "    data = pd.read_csv(\"data/data24374/watermelon_3.csv\", encoding=\"gb18030\")\r\n",
    "    X = data.values[:, 1:9]\r\n",
    "    y = data.values[:, 9]\r\n",
    "    '''读取表格后进行训练'''\r\n",
    "    bcf.train(X, y)\r\n",
    "    samp2 = [\"乌黑\", \"蜷缩\", \"浊响\", \"清晰\", \"凹陷\", \"硬滑\", 0.697, 0.460]\r\n",
    "    yes_p, no_p, ans = bcf.predict(samp2)\r\n",
    "    print (\"预测结果为: {}, {:.7f}, {:.7f}\".format(ans, yes_p, no_p))"
   ]
  }
 ],
 "metadata": {
  "kernelspec": {
   "display_name": "PaddlePaddle 1.7.0 (Python 3.5)",
   "language": "python",
   "name": "py35-paddle1.2.0"
  },
  "language_info": {
   "codemirror_mode": {
    "name": "ipython",
    "version": 3
   },
   "file_extension": ".py",
   "mimetype": "text/x-python",
   "name": "python",
   "nbconvert_exporter": "python",
   "pygments_lexer": "ipython3",
   "version": "3.7.4"
  }
 },
 "nbformat": 4,
 "nbformat_minor": 1
}
