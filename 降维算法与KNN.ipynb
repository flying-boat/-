{
 "cells": [
  {
   "cell_type": "code",
   "execution_count": 58,
   "metadata": {
    "collapsed": false
   },
   "outputs": [
    {
     "name": "stdout",
     "output_type": "stream",
     "text": [
      "number of instance:  1797\n",
      "number of dimension:  64\n"
     ]
    },
    {
     "data": {
      "image/png": "[encoded data removed]",
      "text/plain": [
       "<Figure size 432x288 with 8 Axes>"
      ]
     },
     "metadata": {},
     "output_type": "display_data"
    }
   ],
   "source": [
    "import numpy as np\n",
    "import matplotlib.pyplot as plt\n",
    "from sklearn import datasets\n",
    "from sklearn.model_selection import train_test_split\n",
    "from sklearn.decomposition import PCA\n",
    "from sklearn.neighbors import KNeighborsClassifier\n",
    "\n",
    "digits = datasets.load_digits()\n",
    "_, axes = plt.subplots(2, 4)\n",
    "images_and_labels = list(zip(digits.images, digits.target))\n",
    "for ax, (image, label) in zip(axes[0, :], images_and_labels[:4]):\n",
    "    ax.set_axis_off()\n",
    "    ax.imshow(image, cmap=plt.cm.gray_r, interpolation='nearest')\n",
    "    ax.set_title('Training: %i' % label)\n",
    "\n",
    "n_samples = len(digits.images)\n",
    "data = digits.images.reshape((n_samples, -1))\n",
    "print('number of instance: ', data.shape[0])\n",
    "print('number of dimension: ', data.shape[1])\n",
    "\n",
    "X_train, X_test, y_train, y_test = train_test_split(\n",
    "    data, digits.target, test_size=0.3,random_state = 10)"
   ]
  },
  {
   "cell_type": "code",
   "execution_count": 59,
   "metadata": {
    "collapsed": false
   },
   "outputs": [
    {
     "name": "stdout",
     "output_type": "stream",
     "text": [
      "when n_neighbors =  1  knn accuracy:  0.9907407407407407\n",
      "when n_neighbors =  3  knn accuracy:  0.9907407407407407\n",
      "when n_neighbors =  5  knn accuracy:  0.987037037037037\n",
      "when n_neighbors =  7  knn accuracy:  0.9888888888888889\n",
      "when n_neighbors =  9  knn accuracy:  0.9851851851851852\n",
      "when n_neighbors =  11  knn accuracy:  0.9740740740740741\n",
      "when n_neighbors =  13  knn accuracy:  0.9722222222222222\n",
      "when n_neighbors =  15  knn accuracy:  0.9703703703703703\n",
      "best n =  1\n"
     ]
    }
   ],
   "source": [
    "best_n = 0\r\n",
    "nacc_knn  = 0\r\n",
    "for n_neighbors in [1,3,5,7,9,11,13,15]:\r\n",
    "    knn = KNeighborsClassifier(n_neighbors=n_neighbors)\r\n",
    "    knn.fit(X_train, y_train)\r\n",
    "    acc_knn = knn.score(X_test, y_test)\r\n",
    "    print('when n_neighbors = ',n_neighbors,' knn accuracy: ', acc_knn)\r\n",
    "    if nacc_knn<acc_knn:\r\n",
    "        nacc_knn=acc_knn\r\n",
    "        best_n = n_neighbors\r\n",
    "print('best n = ',best_n)"
   ]
  },
  {
   "cell_type": "markdown",
   "metadata": {
    "collapsed": false
   },
   "source": [
    "\t可以看出KNN是一个比较稳定的算法，随着n的变化准确度变化不大。而对于这个样例、训练集而言，n越大准确度相对降低。"
   ]
  },
  {
   "cell_type": "code",
   "execution_count": 60,
   "metadata": {
    "collapsed": false
   },
   "outputs": [
    {
     "data": {
      "text/plain": [
       "KNeighborsClassifier(algorithm='auto', leaf_size=30, metric='minkowski',\n",
       "           metric_params=None, n_jobs=None, n_neighbors=1, p=2,\n",
       "           weights='uniform')"
      ]
     },
     "execution_count": 60,
     "metadata": {},
     "output_type": "execute_result"
    }
   ],
   "source": [
    "knn = KNeighborsClassifier(n_neighbors=best_n)\r\n",
    "knn.fit(X_train, y_train)"
   ]
  },
  {
   "cell_type": "code",
   "execution_count": 61,
   "metadata": {
    "collapsed": false
   },
   "outputs": [
    {
     "name": "stdout",
     "output_type": "stream",
     "text": [
      "when component =  1 knn accuracy using PCA:  0.29444444444444445\n",
      "when component =  2 knn accuracy using PCA:  0.5685185185185185\n",
      "when component =  5 knn accuracy using PCA:  0.8907407407407407\n",
      "when component =  10 knn accuracy using PCA:  0.9833333333333333\n",
      "when component =  20 knn accuracy using PCA:  0.987037037037037\n",
      "when component =  50 knn accuracy using PCA:  0.9907407407407407\n"
     ]
    }
   ],
   "source": [
    "best_acc = 0\r\n",
    "best_com = 0\r\n",
    "for n_components in [1,2,5,10,20,50]:\r\n",
    "    pca = PCA(n_components=n_components).fit(X_train)\r\n",
    "    X_train_pca = pca.transform(X_train)\r\n",
    "    X_test_pca = pca.transform(X_test)\r\n",
    "    knn.fit(X_train_pca, y_train)\r\n",
    "    acc_knn = knn.score(X_test_pca, y_test)\r\n",
    "    print('when component = ',n_components,'knn accuracy using PCA: ', acc_knn)\r\n"
   ]
  },
  {
   "cell_type": "markdown",
   "metadata": {
    "collapsed": false
   },
   "source": [
    "\tn为特征维度数目，显然n越大准确度越高，但是我们降维的目的就是为了尽可能地使得维数更低，所以我们选择n=10继续实验"
   ]
  },
  {
   "cell_type": "code",
   "execution_count": 62,
   "metadata": {
    "collapsed": false
   },
   "outputs": [
    {
     "data": {
      "text/plain": [
       "KNeighborsClassifier(algorithm='auto', leaf_size=30, metric='minkowski',\n",
       "           metric_params=None, n_jobs=None, n_neighbors=1, p=2,\n",
       "           weights='uniform')"
      ]
     },
     "execution_count": 62,
     "metadata": {},
     "output_type": "execute_result"
    }
   ],
   "source": [
    "pca = PCA(n_components=10).fit(X_train)\r\n",
    "X_train_pca = pca.transform(X_train)\r\n",
    "X_test_pca = pca.transform(X_test)\r\n",
    "knn.fit(X_train_pca, y_train)"
   ]
  },
  {
   "cell_type": "code",
   "execution_count": 63,
   "metadata": {
    "collapsed": false
   },
   "outputs": [],
   "source": [
    "predicted = knn.predict(X_test_pca)\r\n",
    "images_and_predictions = list(zip(digits.images[n_samples // 2:], predicted))\r\n",
    "for ax, (image, prediction) in zip(axes[1, :], images_and_predictions[:4]):\r\n",
    "    ax.set_axis_off()\r\n",
    "    ax.imshow(image, cmap=plt.cm.gray_r, interpolation='nearest')\r\n",
    "    ax.set_title('Prediction: %i' % prediction)\r\n",
    "plt.show()"
   ]
  }
 ],
 "metadata": {
  "kernelspec": {
   "display_name": "PaddlePaddle 1.7.1 (Python 3.5)",
   "language": "python",
   "name": "py35-paddle1.2.0"
  },
  "language_info": {
   "codemirror_mode": {
    "name": "ipython",
    "version": 3
   },
   "file_extension": ".py",
   "mimetype": "text/x-python",
   "name": "python",
   "nbconvert_exporter": "python",
   "pygments_lexer": "ipython3",
   "version": "3.7.4"
  }
 },
 "nbformat": 4,
 "nbformat_minor": 1
}
